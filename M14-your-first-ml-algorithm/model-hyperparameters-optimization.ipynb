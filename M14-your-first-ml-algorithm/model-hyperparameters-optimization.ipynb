{
  "cells": [
    {
      "cell_type": "markdown",
      "id": "b2ca5ba6",
      "metadata": {
        "id": "b2ca5ba6"
      },
      "source": [
        "## Hyperparameter optimization\n",
        "\n",
        "Hyperparameter optimization (*HPO*) is a mechanism for approximating a version of a model with high performance and effectiveness. These hyperparameters, unlike model parameters, are set by the engineer prior to training.\n",
        "\n",
        "### What is a hyperparameter?\n",
        "\n",
        "A **hyperparameter** is a configuration variable external to the model that is used to train it. Depending on the model, we can find a multitude of hyperparameters:\n",
        "\n",
        "- Learning rate in gradient descent.\n",
        "- Number of iterations in gradient descent.\n",
        "- Number of layers in a Neural Network.\n",
        "- Number of neurons per layer in a Neural Network.\n",
        "- Number of clusters (k) in a k-NN model."
      ]
    },
    {
      "cell_type": "markdown",
      "id": "b07965f7",
      "metadata": {
        "id": "b07965f7"
      },
      "source": [
        "#### Difference between parameter and hyperparameter\n",
        "\n",
        "A **parameter** of a model are the features that are optimized to train it and that shape its learning. These values are not accessible by us as developers. For example, in the case of a linear regression, these parameters will be the slope and the intercept, for example.\n",
        "\n",
        "With the training dataset and a learning algorithm (such as the one we saw above about *gradient descent*), we manage to alter these values and let the model know how to classify or predict the cases.\n",
        "\n",
        "However, a hyperparameter, in contrast, is established before the training phase and allows the developer to create a context and prepare the model.\n",
        "\n",
        "| Parameter | Hyperparameter |\n",
        "|-----------|----------------|\n",
        "| Indispensable for predictions | Indispensable for initializing the model parameters, which will be optimized later |\n",
        "| They are estimated by learning algorithms (gradient descent, Adam, Adagrad...) | They are estimated by the optimization method |\n",
        "| They are not set manually | They are set manually |\n",
        "| The final value is obtained after the learning phase and will decide the accuracy of the model and how it will predict new data | The choice of these values will decide how efficient the training will be. It also has a big impact on the parameter optimization process"
      ]
    },
    {
      "cell_type": "markdown",
      "id": "6cbd0897",
      "metadata": {
        "id": "6cbd0897"
      },
      "source": [
        "### Hyperparameter optimization process\n",
        "\n",
        "Normally, we do not know the optimal values for the hyperparameters that would generate the best of the model results. Therefore, it is a vital and important step to include this step in any Machine Learning model building.\n",
        "\n",
        "There are several strategies to carry it out. First, we train a base model:"
      ]
    },
    {
      "cell_type": "code",
      "execution_count": 6,
      "id": "7205e4ad",
      "metadata": {
        "id": "7205e4ad",
        "outputId": "4e01a4fb-ac22-49af-8c55-0515cadeb506",
        "colab": {
          "base_uri": "https://localhost:8080/"
        }
      },
      "outputs": [
        {
          "output_type": "execute_result",
          "data": {
            "text/plain": [
              "0.851145038167939"
            ]
          },
          "metadata": {},
          "execution_count": 6
        }
      ],
      "source": [
        "import pandas as pd\n",
        "from sklearn.linear_model import LogisticRegression\n",
        "from sklearn.metrics import accuracy_score\n",
        "\n",
        "train_data = pd.read_csv(\"https://raw.githubusercontent.com/4GeeksAcademy/machine-learning-content/master/assets/clean_titanic_train.csv\")\n",
        "test_data = pd.read_csv(\"https://raw.githubusercontent.com/4GeeksAcademy/machine-learning-content/master/assets/clean_titanic_test.csv\")\n",
        "\n",
        "X_train = train_data.drop([\"Survived\"], axis = 1)\n",
        "y_train = train_data[\"Survived\"]\n",
        "X_test = test_data.drop([\"Survived\"], axis = 1)\n",
        "y_test = test_data[\"Survived\"]\n",
        "\n",
        "model = LogisticRegression()\n",
        "model.fit(X_train, y_train)\n",
        "y_pred = model.predict(X_test)\n",
        "\n",
        "base_accuracy = accuracy_score(y_test, y_pred)\n",
        "base_accuracy"
      ]
    },
    {
      "cell_type": "markdown",
      "id": "3b168aaf",
      "metadata": {
        "id": "3b168aaf"
      },
      "source": [
        "As we can see, the \"base\" accuracy, using the default configuration of the model is 84.7%. Let's see if we can improve these results using the different techniques.\n",
        "\n",
        "#### 1. Grid search\n",
        "\n",
        "The **grid search** is a method that performs an exhaustive search through a specific (manually set) subset of values and then tries all possible combinations until the best of the models is found."
      ]
    },
    {
      "cell_type": "code",
      "execution_count": 7,
      "id": "3bca550f",
      "metadata": {
        "id": "3bca550f",
        "outputId": "4955a9ac-ad81-45e8-d921-9df3c8b027ae",
        "colab": {
          "base_uri": "https://localhost:8080/",
          "height": 118
        }
      },
      "outputs": [
        {
          "output_type": "execute_result",
          "data": {
            "text/plain": [
              "GridSearchCV(cv=5, estimator=LogisticRegression(),\n",
              "             param_grid={'C': [0.001, 0.01, 0.1, 1, 10, 100, 1000],\n",
              "                         'penalty': ['l1', 'l2', 'elasticnet', None],\n",
              "                         'solver': ['newton-cg', 'lbfgs', 'liblinear', 'sag',\n",
              "                                    'saga']},\n",
              "             scoring='accuracy')"
            ],
            "text/html": [
              "<style>#sk-container-id-3 {color: black;background-color: white;}#sk-container-id-3 pre{padding: 0;}#sk-container-id-3 div.sk-toggleable {background-color: white;}#sk-container-id-3 label.sk-toggleable__label {cursor: pointer;display: block;width: 100%;margin-bottom: 0;padding: 0.3em;box-sizing: border-box;text-align: center;}#sk-container-id-3 label.sk-toggleable__label-arrow:before {content: \"▸\";float: left;margin-right: 0.25em;color: #696969;}#sk-container-id-3 label.sk-toggleable__label-arrow:hover:before {color: black;}#sk-container-id-3 div.sk-estimator:hover label.sk-toggleable__label-arrow:before {color: black;}#sk-container-id-3 div.sk-toggleable__content {max-height: 0;max-width: 0;overflow: hidden;text-align: left;background-color: #f0f8ff;}#sk-container-id-3 div.sk-toggleable__content pre {margin: 0.2em;color: black;border-radius: 0.25em;background-color: #f0f8ff;}#sk-container-id-3 input.sk-toggleable__control:checked~div.sk-toggleable__content {max-height: 200px;max-width: 100%;overflow: auto;}#sk-container-id-3 input.sk-toggleable__control:checked~label.sk-toggleable__label-arrow:before {content: \"▾\";}#sk-container-id-3 div.sk-estimator input.sk-toggleable__control:checked~label.sk-toggleable__label {background-color: #d4ebff;}#sk-container-id-3 div.sk-label input.sk-toggleable__control:checked~label.sk-toggleable__label {background-color: #d4ebff;}#sk-container-id-3 input.sk-hidden--visually {border: 0;clip: rect(1px 1px 1px 1px);clip: rect(1px, 1px, 1px, 1px);height: 1px;margin: -1px;overflow: hidden;padding: 0;position: absolute;width: 1px;}#sk-container-id-3 div.sk-estimator {font-family: monospace;background-color: #f0f8ff;border: 1px dotted black;border-radius: 0.25em;box-sizing: border-box;margin-bottom: 0.5em;}#sk-container-id-3 div.sk-estimator:hover {background-color: #d4ebff;}#sk-container-id-3 div.sk-parallel-item::after {content: \"\";width: 100%;border-bottom: 1px solid gray;flex-grow: 1;}#sk-container-id-3 div.sk-label:hover label.sk-toggleable__label {background-color: #d4ebff;}#sk-container-id-3 div.sk-serial::before {content: \"\";position: absolute;border-left: 1px solid gray;box-sizing: border-box;top: 0;bottom: 0;left: 50%;z-index: 0;}#sk-container-id-3 div.sk-serial {display: flex;flex-direction: column;align-items: center;background-color: white;padding-right: 0.2em;padding-left: 0.2em;position: relative;}#sk-container-id-3 div.sk-item {position: relative;z-index: 1;}#sk-container-id-3 div.sk-parallel {display: flex;align-items: stretch;justify-content: center;background-color: white;position: relative;}#sk-container-id-3 div.sk-item::before, #sk-container-id-3 div.sk-parallel-item::before {content: \"\";position: absolute;border-left: 1px solid gray;box-sizing: border-box;top: 0;bottom: 0;left: 50%;z-index: -1;}#sk-container-id-3 div.sk-parallel-item {display: flex;flex-direction: column;z-index: 1;position: relative;background-color: white;}#sk-container-id-3 div.sk-parallel-item:first-child::after {align-self: flex-end;width: 50%;}#sk-container-id-3 div.sk-parallel-item:last-child::after {align-self: flex-start;width: 50%;}#sk-container-id-3 div.sk-parallel-item:only-child::after {width: 0;}#sk-container-id-3 div.sk-dashed-wrapped {border: 1px dashed gray;margin: 0 0.4em 0.5em 0.4em;box-sizing: border-box;padding-bottom: 0.4em;background-color: white;}#sk-container-id-3 div.sk-label label {font-family: monospace;font-weight: bold;display: inline-block;line-height: 1.2em;}#sk-container-id-3 div.sk-label-container {text-align: center;}#sk-container-id-3 div.sk-container {/* jupyter's `normalize.less` sets `[hidden] { display: none; }` but bootstrap.min.css set `[hidden] { display: none !important; }` so we also need the `!important` here to be able to override the default hidden behavior on the sphinx rendered scikit-learn.org. See: https://github.com/scikit-learn/scikit-learn/issues/21755 */display: inline-block !important;position: relative;}#sk-container-id-3 div.sk-text-repr-fallback {display: none;}</style><div id=\"sk-container-id-3\" class=\"sk-top-container\"><div class=\"sk-text-repr-fallback\"><pre>GridSearchCV(cv=5, estimator=LogisticRegression(),\n",
              "             param_grid={&#x27;C&#x27;: [0.001, 0.01, 0.1, 1, 10, 100, 1000],\n",
              "                         &#x27;penalty&#x27;: [&#x27;l1&#x27;, &#x27;l2&#x27;, &#x27;elasticnet&#x27;, None],\n",
              "                         &#x27;solver&#x27;: [&#x27;newton-cg&#x27;, &#x27;lbfgs&#x27;, &#x27;liblinear&#x27;, &#x27;sag&#x27;,\n",
              "                                    &#x27;saga&#x27;]},\n",
              "             scoring=&#x27;accuracy&#x27;)</pre><b>In a Jupyter environment, please rerun this cell to show the HTML representation or trust the notebook. <br />On GitHub, the HTML representation is unable to render, please try loading this page with nbviewer.org.</b></div><div class=\"sk-container\" hidden><div class=\"sk-item sk-dashed-wrapped\"><div class=\"sk-label-container\"><div class=\"sk-label sk-toggleable\"><input class=\"sk-toggleable__control sk-hidden--visually\" id=\"sk-estimator-id-7\" type=\"checkbox\" ><label for=\"sk-estimator-id-7\" class=\"sk-toggleable__label sk-toggleable__label-arrow\">GridSearchCV</label><div class=\"sk-toggleable__content\"><pre>GridSearchCV(cv=5, estimator=LogisticRegression(),\n",
              "             param_grid={&#x27;C&#x27;: [0.001, 0.01, 0.1, 1, 10, 100, 1000],\n",
              "                         &#x27;penalty&#x27;: [&#x27;l1&#x27;, &#x27;l2&#x27;, &#x27;elasticnet&#x27;, None],\n",
              "                         &#x27;solver&#x27;: [&#x27;newton-cg&#x27;, &#x27;lbfgs&#x27;, &#x27;liblinear&#x27;, &#x27;sag&#x27;,\n",
              "                                    &#x27;saga&#x27;]},\n",
              "             scoring=&#x27;accuracy&#x27;)</pre></div></div></div><div class=\"sk-parallel\"><div class=\"sk-parallel-item\"><div class=\"sk-item\"><div class=\"sk-label-container\"><div class=\"sk-label sk-toggleable\"><input class=\"sk-toggleable__control sk-hidden--visually\" id=\"sk-estimator-id-8\" type=\"checkbox\" ><label for=\"sk-estimator-id-8\" class=\"sk-toggleable__label sk-toggleable__label-arrow\">estimator: LogisticRegression</label><div class=\"sk-toggleable__content\"><pre>LogisticRegression()</pre></div></div></div><div class=\"sk-serial\"><div class=\"sk-item\"><div class=\"sk-estimator sk-toggleable\"><input class=\"sk-toggleable__control sk-hidden--visually\" id=\"sk-estimator-id-9\" type=\"checkbox\" ><label for=\"sk-estimator-id-9\" class=\"sk-toggleable__label sk-toggleable__label-arrow\">LogisticRegression</label><div class=\"sk-toggleable__content\"><pre>LogisticRegression()</pre></div></div></div></div></div></div></div></div></div></div>"
            ]
          },
          "metadata": {},
          "execution_count": 7
        }
      ],
      "source": [
        "from sklearn.model_selection import GridSearchCV\n",
        "\n",
        "# We define the parameters by hand that we want to adjust\n",
        "hyperparams = {\n",
        "    \"C\": [0.001, 0.01, 0.1, 1, 10, 100, 1000],\n",
        "    \"penalty\": [\"l1\", \"l2\", \"elasticnet\", None],\n",
        "    \"solver\": [\"newton-cg\", \"lbfgs\", \"liblinear\", \"sag\", \"saga\"]\n",
        "}\n",
        "\n",
        "# We initialize the grid\n",
        "grid = GridSearchCV(model, hyperparams, scoring = \"accuracy\", cv = 5)\n",
        "grid"
      ]
    },
    {
      "cell_type": "code",
      "execution_count": 8,
      "id": "9473ea5a",
      "metadata": {
        "id": "9473ea5a",
        "outputId": "4003680f-0f0f-476d-cf28-29784606fcc5",
        "colab": {
          "base_uri": "https://localhost:8080/"
        }
      },
      "outputs": [
        {
          "output_type": "stream",
          "name": "stdout",
          "text": [
            "Best hyperparameters: {'C': 1, 'penalty': 'l1', 'solver': 'liblinear'}\n"
          ]
        }
      ],
      "source": [
        "def warn(*args, **kwargs):\n",
        "    pass\n",
        "import warnings\n",
        "warnings.warn = warn\n",
        "\n",
        "grid.fit(X_train, y_train)\n",
        "\n",
        "print(f\"Best hyperparameters: {grid.best_params_}\")"
      ]
    },
    {
      "cell_type": "markdown",
      "id": "e758dabe",
      "metadata": {
        "id": "e758dabe"
      },
      "source": [
        "As we can see, the parameters optimized using this technique are:\n",
        "\n",
        "- `C`: 10\n",
        "- `penalty`: l1\n",
        "- `solver`: liblinear\n",
        "\n",
        "In addition, we must always use the training data set to adjust it. Now we just have to repeat the training by setting these parameters in the model:"
      ]
    },
    {
      "cell_type": "code",
      "execution_count": 9,
      "id": "52305d12",
      "metadata": {
        "id": "52305d12",
        "outputId": "cab87c85-af5e-4c62-c1e9-b5377dd1f7f2",
        "colab": {
          "base_uri": "https://localhost:8080/"
        }
      },
      "outputs": [
        {
          "output_type": "execute_result",
          "data": {
            "text/plain": [
              "0.851145038167939"
            ]
          },
          "metadata": {},
          "execution_count": 9
        }
      ],
      "source": [
        "model_grid = LogisticRegression(penalty = \"l1\", C = 10, solver = \"liblinear\")\n",
        "model_grid.fit(X_train, y_train)\n",
        "y_pred = model_grid.predict(X_test)\n",
        "\n",
        "grid_accuracy = accuracy_score(y_test, y_pred)\n",
        "grid_accuracy"
      ]
    },
    {
      "cell_type": "markdown",
      "id": "b2293a83",
      "metadata": {
        "id": "b2293a83"
      },
      "source": [
        "We observed an improvement of just under 1%, but this in a real-world dataset is a huge win!\n",
        "\n",
        "In addition, we have used three of the many hyperparameters that this model accepts. We could build a much more complex grid (and one that would take longer to run) to improve the results.\n",
        "\n",
        "##### Pros and cons of this strategy\n",
        "\n",
        "As points in favor we can find:\n",
        "- Exhaustiveness: It tests all possible combinations of hyperparameters within the provided grid, so if the optimal combination is within it, this methodology will find it.\n",
        "- Reproducibility: Due to its deterministic (non-random) nature, the same result will always be obtained with the same parameters and input.\n",
        "\n",
        "However, the following negative points should be noted:\n",
        "- Efficiency: It is very computationally expensive. It can be time consuming and resource intensive, especially if the number of hyperparameters is large and/or the range of values is wide.\n",
        "- It does not guarantee the best results, since it depends on the hyperparameters and the values set by the developer."
      ]
    },
    {
      "cell_type": "markdown",
      "id": "147175e7",
      "metadata": {
        "id": "147175e7"
      },
      "source": [
        "#### 2. Random search\n",
        "\n",
        "The **random search** is similar to the previous one but, instead of testing all possible combinations of previously established hyperparameter values, this methodology randomly selects combinations of hyperparameters to test."
      ]
    },
    {
      "cell_type": "code",
      "execution_count": 14,
      "id": "c8aa61c5",
      "metadata": {
        "id": "c8aa61c5",
        "outputId": "db351c59-e42f-42a6-d84f-bc85ed86328b",
        "colab": {
          "base_uri": "https://localhost:8080/",
          "height": 118
        }
      },
      "outputs": [
        {
          "output_type": "execute_result",
          "data": {
            "text/plain": [
              "RandomizedSearchCV(cv=5, estimator=LogisticRegression(), n_iter=100,\n",
              "                   param_distributions={'C': array([1.00000000e-04, 2.63665090e-04, 6.95192796e-04, 1.83298071e-03,\n",
              "       4.83293024e-03, 1.27427499e-02, 3.35981829e-02, 8.85866790e-02,\n",
              "       2.33572147e-01, 6.15848211e-01, 1.62377674e+00, 4.28133240e+00,\n",
              "       1.12883789e+01, 2.97635144e+01, 7.84759970e+01, 2.06913808e+02,\n",
              "       5.45559478e+02, 1.43844989e+03, 3.79269019e+03, 1.00000000e+04]),\n",
              "                                        'penalty': ['l1', 'l2', 'elasticnet',\n",
              "                                                    None],\n",
              "                                        'solver': ['newton-cg', 'lbfgs',\n",
              "                                                   'liblinear', 'sag',\n",
              "                                                   'saga']},\n",
              "                   random_state=42, scoring='accuracy')"
            ],
            "text/html": [
              "<style>#sk-container-id-6 {color: black;background-color: white;}#sk-container-id-6 pre{padding: 0;}#sk-container-id-6 div.sk-toggleable {background-color: white;}#sk-container-id-6 label.sk-toggleable__label {cursor: pointer;display: block;width: 100%;margin-bottom: 0;padding: 0.3em;box-sizing: border-box;text-align: center;}#sk-container-id-6 label.sk-toggleable__label-arrow:before {content: \"▸\";float: left;margin-right: 0.25em;color: #696969;}#sk-container-id-6 label.sk-toggleable__label-arrow:hover:before {color: black;}#sk-container-id-6 div.sk-estimator:hover label.sk-toggleable__label-arrow:before {color: black;}#sk-container-id-6 div.sk-toggleable__content {max-height: 0;max-width: 0;overflow: hidden;text-align: left;background-color: #f0f8ff;}#sk-container-id-6 div.sk-toggleable__content pre {margin: 0.2em;color: black;border-radius: 0.25em;background-color: #f0f8ff;}#sk-container-id-6 input.sk-toggleable__control:checked~div.sk-toggleable__content {max-height: 200px;max-width: 100%;overflow: auto;}#sk-container-id-6 input.sk-toggleable__control:checked~label.sk-toggleable__label-arrow:before {content: \"▾\";}#sk-container-id-6 div.sk-estimator input.sk-toggleable__control:checked~label.sk-toggleable__label {background-color: #d4ebff;}#sk-container-id-6 div.sk-label input.sk-toggleable__control:checked~label.sk-toggleable__label {background-color: #d4ebff;}#sk-container-id-6 input.sk-hidden--visually {border: 0;clip: rect(1px 1px 1px 1px);clip: rect(1px, 1px, 1px, 1px);height: 1px;margin: -1px;overflow: hidden;padding: 0;position: absolute;width: 1px;}#sk-container-id-6 div.sk-estimator {font-family: monospace;background-color: #f0f8ff;border: 1px dotted black;border-radius: 0.25em;box-sizing: border-box;margin-bottom: 0.5em;}#sk-container-id-6 div.sk-estimator:hover {background-color: #d4ebff;}#sk-container-id-6 div.sk-parallel-item::after {content: \"\";width: 100%;border-bottom: 1px solid gray;flex-grow: 1;}#sk-container-id-6 div.sk-label:hover label.sk-toggleable__label {background-color: #d4ebff;}#sk-container-id-6 div.sk-serial::before {content: \"\";position: absolute;border-left: 1px solid gray;box-sizing: border-box;top: 0;bottom: 0;left: 50%;z-index: 0;}#sk-container-id-6 div.sk-serial {display: flex;flex-direction: column;align-items: center;background-color: white;padding-right: 0.2em;padding-left: 0.2em;position: relative;}#sk-container-id-6 div.sk-item {position: relative;z-index: 1;}#sk-container-id-6 div.sk-parallel {display: flex;align-items: stretch;justify-content: center;background-color: white;position: relative;}#sk-container-id-6 div.sk-item::before, #sk-container-id-6 div.sk-parallel-item::before {content: \"\";position: absolute;border-left: 1px solid gray;box-sizing: border-box;top: 0;bottom: 0;left: 50%;z-index: -1;}#sk-container-id-6 div.sk-parallel-item {display: flex;flex-direction: column;z-index: 1;position: relative;background-color: white;}#sk-container-id-6 div.sk-parallel-item:first-child::after {align-self: flex-end;width: 50%;}#sk-container-id-6 div.sk-parallel-item:last-child::after {align-self: flex-start;width: 50%;}#sk-container-id-6 div.sk-parallel-item:only-child::after {width: 0;}#sk-container-id-6 div.sk-dashed-wrapped {border: 1px dashed gray;margin: 0 0.4em 0.5em 0.4em;box-sizing: border-box;padding-bottom: 0.4em;background-color: white;}#sk-container-id-6 div.sk-label label {font-family: monospace;font-weight: bold;display: inline-block;line-height: 1.2em;}#sk-container-id-6 div.sk-label-container {text-align: center;}#sk-container-id-6 div.sk-container {/* jupyter's `normalize.less` sets `[hidden] { display: none; }` but bootstrap.min.css set `[hidden] { display: none !important; }` so we also need the `!important` here to be able to override the default hidden behavior on the sphinx rendered scikit-learn.org. See: https://github.com/scikit-learn/scikit-learn/issues/21755 */display: inline-block !important;position: relative;}#sk-container-id-6 div.sk-text-repr-fallback {display: none;}</style><div id=\"sk-container-id-6\" class=\"sk-top-container\"><div class=\"sk-text-repr-fallback\"><pre>RandomizedSearchCV(cv=5, estimator=LogisticRegression(), n_iter=100,\n",
              "                   param_distributions={&#x27;C&#x27;: array([1.00000000e-04, 2.63665090e-04, 6.95192796e-04, 1.83298071e-03,\n",
              "       4.83293024e-03, 1.27427499e-02, 3.35981829e-02, 8.85866790e-02,\n",
              "       2.33572147e-01, 6.15848211e-01, 1.62377674e+00, 4.28133240e+00,\n",
              "       1.12883789e+01, 2.97635144e+01, 7.84759970e+01, 2.06913808e+02,\n",
              "       5.45559478e+02, 1.43844989e+03, 3.79269019e+03, 1.00000000e+04]),\n",
              "                                        &#x27;penalty&#x27;: [&#x27;l1&#x27;, &#x27;l2&#x27;, &#x27;elasticnet&#x27;,\n",
              "                                                    None],\n",
              "                                        &#x27;solver&#x27;: [&#x27;newton-cg&#x27;, &#x27;lbfgs&#x27;,\n",
              "                                                   &#x27;liblinear&#x27;, &#x27;sag&#x27;,\n",
              "                                                   &#x27;saga&#x27;]},\n",
              "                   random_state=42, scoring=&#x27;accuracy&#x27;)</pre><b>In a Jupyter environment, please rerun this cell to show the HTML representation or trust the notebook. <br />On GitHub, the HTML representation is unable to render, please try loading this page with nbviewer.org.</b></div><div class=\"sk-container\" hidden><div class=\"sk-item sk-dashed-wrapped\"><div class=\"sk-label-container\"><div class=\"sk-label sk-toggleable\"><input class=\"sk-toggleable__control sk-hidden--visually\" id=\"sk-estimator-id-16\" type=\"checkbox\" ><label for=\"sk-estimator-id-16\" class=\"sk-toggleable__label sk-toggleable__label-arrow\">RandomizedSearchCV</label><div class=\"sk-toggleable__content\"><pre>RandomizedSearchCV(cv=5, estimator=LogisticRegression(), n_iter=100,\n",
              "                   param_distributions={&#x27;C&#x27;: array([1.00000000e-04, 2.63665090e-04, 6.95192796e-04, 1.83298071e-03,\n",
              "       4.83293024e-03, 1.27427499e-02, 3.35981829e-02, 8.85866790e-02,\n",
              "       2.33572147e-01, 6.15848211e-01, 1.62377674e+00, 4.28133240e+00,\n",
              "       1.12883789e+01, 2.97635144e+01, 7.84759970e+01, 2.06913808e+02,\n",
              "       5.45559478e+02, 1.43844989e+03, 3.79269019e+03, 1.00000000e+04]),\n",
              "                                        &#x27;penalty&#x27;: [&#x27;l1&#x27;, &#x27;l2&#x27;, &#x27;elasticnet&#x27;,\n",
              "                                                    None],\n",
              "                                        &#x27;solver&#x27;: [&#x27;newton-cg&#x27;, &#x27;lbfgs&#x27;,\n",
              "                                                   &#x27;liblinear&#x27;, &#x27;sag&#x27;,\n",
              "                                                   &#x27;saga&#x27;]},\n",
              "                   random_state=42, scoring=&#x27;accuracy&#x27;)</pre></div></div></div><div class=\"sk-parallel\"><div class=\"sk-parallel-item\"><div class=\"sk-item\"><div class=\"sk-label-container\"><div class=\"sk-label sk-toggleable\"><input class=\"sk-toggleable__control sk-hidden--visually\" id=\"sk-estimator-id-17\" type=\"checkbox\" ><label for=\"sk-estimator-id-17\" class=\"sk-toggleable__label sk-toggleable__label-arrow\">estimator: LogisticRegression</label><div class=\"sk-toggleable__content\"><pre>LogisticRegression()</pre></div></div></div><div class=\"sk-serial\"><div class=\"sk-item\"><div class=\"sk-estimator sk-toggleable\"><input class=\"sk-toggleable__control sk-hidden--visually\" id=\"sk-estimator-id-18\" type=\"checkbox\" ><label for=\"sk-estimator-id-18\" class=\"sk-toggleable__label sk-toggleable__label-arrow\">LogisticRegression</label><div class=\"sk-toggleable__content\"><pre>LogisticRegression()</pre></div></div></div></div></div></div></div></div></div></div>"
            ]
          },
          "metadata": {},
          "execution_count": 14
        }
      ],
      "source": [
        "import numpy as np\n",
        "from sklearn.model_selection import RandomizedSearchCV\n",
        "\n",
        "# We define the parameters we want to adjust\n",
        "hyperparams = {\n",
        "    \"C\": np.logspace(-4, 4, 20),\n",
        "    \"penalty\": [\"l1\", \"l2\", \"elasticnet\", None],\n",
        "    \"solver\": [\"newton-cg\", \"lbfgs\", \"liblinear\", \"sag\", \"saga\"]\n",
        "}\n",
        "\n",
        "# We initialize the random search\n",
        "random_search = RandomizedSearchCV(model, hyperparams, n_iter = 100, scoring = \"accuracy\", cv = 5, random_state = 42)\n",
        "random_search"
      ]
    },
    {
      "cell_type": "code",
      "execution_count": 16,
      "id": "f00445fd",
      "metadata": {
        "id": "f00445fd",
        "outputId": "bb33f5e3-685b-43b0-cca5-d78eb8e00dbf",
        "colab": {
          "base_uri": "https://localhost:8080/"
        }
      },
      "outputs": [
        {
          "output_type": "stream",
          "name": "stdout",
          "text": [
            "Best hyperparameters: {'solver': 'lbfgs', 'penalty': 'l2', 'C': 29.763514416313132}\n"
          ]
        }
      ],
      "source": [
        "random_search.fit(X_train, y_train)\n",
        "\n",
        "print(f\"Best hyperparameters: {random_search.best_params_}\")"
      ]
    },
    {
      "cell_type": "markdown",
      "id": "eeaf3469",
      "metadata": {
        "id": "eeaf3469"
      },
      "source": [
        "As we can see, the parameters optimized using this technique are:\n",
        "\n",
        "- `C`: 29.7635\n",
        "- `penalty`: l2\n",
        "- `solver`: lbfgs\n",
        "\n",
        "In addition, we can see in the logs that there have been some errors due to incompatibilities between attributes (values of one attribute that are incompatible with values of another). This is handled by the estimation function itself and we should not worry, since it will always return the best solution without errors.\n",
        "\n",
        "With this new hyperparameterization, we retrain the model:"
      ]
    },
    {
      "cell_type": "code",
      "execution_count": 17,
      "id": "d09c7485",
      "metadata": {
        "id": "d09c7485",
        "outputId": "b49765a7-b6bc-4982-a432-56fb6084db6c",
        "colab": {
          "base_uri": "https://localhost:8080/"
        }
      },
      "outputs": [
        {
          "output_type": "execute_result",
          "data": {
            "text/plain": [
              "0.851145038167939"
            ]
          },
          "metadata": {},
          "execution_count": 17
        }
      ],
      "source": [
        "model_random_search = LogisticRegression(penalty = \"l2\", C = 29.7635, solver = \"lbfgs\")\n",
        "model_random_search.fit(X_train, y_train)\n",
        "y_pred = model_random_search.predict(X_test)\n",
        "\n",
        "random_search_accuracy = accuracy_score(y_test, y_pred)\n",
        "random_search_accuracy"
      ]
    },
    {
      "cell_type": "markdown",
      "id": "00262ae7",
      "metadata": {
        "id": "00262ae7"
      },
      "source": [
        "As we can see, it yields the same level of accuracy as the previous strategy. This means that with the means and hyperparameters that we have tried to optimize we are at a **local maximum**, that is, we would have to repeat the optimization strategy including other hyperparameters to improve the model results, since only playing with the `penalty`, `C` and `solver` we are not going to improve the model more than it is already.\n",
        "\n",
        "##### Pros and cons of this strategy\n",
        "\n",
        "As points in favor we can find:\n",
        "- Efficiency: it is generally faster than grid search, since it does not try all possible combinations, but randomly selects a specific number of them.\n",
        "- It can be closer to global optimization when selecting random values, since there is no fixed grid of them.\n",
        "\n",
        "As unfavorable points we can find:\n",
        "- Randomness. It does not guarantee the same solution in each run, unless a seed (`random_state`) is fixed.\n",
        "- It is not exhaustive: You may not try the best combination of hyperparameters if you are unlucky with random selection."
      ]
    },
    {
      "cell_type": "markdown",
      "id": "5c1802b3",
      "metadata": {
        "id": "5c1802b3"
      },
      "source": [
        "#### When to use each strategy?\n",
        "\n",
        "Both are hyperparameter search techniques and can be useful in different situations. Mesh search is more appropriate when we have a small, well-defined set of hyperparameters, and random search is more useful when there is a large hyperparameter space and/or we do not have a clear idea of what might be the best values to optimize."
      ]
    },
    {
      "cell_type": "code",
      "source": [],
      "metadata": {
        "id": "3X29ZpE6cMkL"
      },
      "id": "3X29ZpE6cMkL",
      "execution_count": null,
      "outputs": []
    }
  ],
  "metadata": {
    "kernelspec": {
      "display_name": "Python 3.8.13 64-bit ('3.8.13')",
      "language": "python",
      "name": "python3"
    },
    "language_info": {
      "codemirror_mode": {
        "name": "ipython",
        "version": 3
      },
      "file_extension": ".py",
      "mimetype": "text/x-python",
      "name": "python",
      "nbconvert_exporter": "python",
      "pygments_lexer": "ipython3",
      "version": "3.11.4"
    },
    "vscode": {
      "interpreter": {
        "hash": "110cc1dee26208153f2972f08a2ad52b6a56238dc66d48e87fb757ef2996db56"
      }
    },
    "colab": {
      "provenance": []
    }
  },
  "nbformat": 4,
  "nbformat_minor": 5
}