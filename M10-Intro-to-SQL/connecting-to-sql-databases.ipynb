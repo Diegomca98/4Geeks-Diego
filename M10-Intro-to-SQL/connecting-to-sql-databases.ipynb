{
  "cells": [
    {
      "cell_type": "markdown",
      "id": "5b140b0d",
      "metadata": {
        "id": "5b140b0d"
      },
      "source": [
        "# Connecting to SQL databases using Python\n",
        "\n",
        "As Machine Learning experts and depending on how the information is arranged, we will probably have to interact with SQL databases. It is a very common flow to ingest data in Python through SQL or non-relational databases and use Python to analyze it, graph it, define it and ultimately build a predictive model.\n",
        "\n",
        "Some of the most commonly used SQL databases are SQLite, PostgreSQL and MySQL. SQLite is the best alternative when we want a portable database, without having to use a separate server to run it. It is ideal for embedded applications. If we want something more scalable in the future and a database in distributed applications, then MySQL is a good choice, while PostgreSQL is an opportune database for complex applications and is used in most enterprise solutions.\n",
        "\n",
        "![comparative_sql.png](https://github.com/4GeeksAcademy/machine-learning-content/blob/master/assets/comparative_sql.png?raw=true)\n",
        "\n",
        "In this lesson we will see how Python and some SQL databases interact. Why should we care about connecting Python and a SQL database? Perhaps, as Machine Learning experts, we need to build an automated ETL pipeline. Connecting Python to a SQL database will allow us to use Python for its automation capabilities. We will also be able to communicate between different data sources. We won't have to switch between different programming languages, we will be able to use our Python skills to manipulate data from an SQL database. We won't need a CSV file.\n",
        "\n",
        "### SQLite connection\n",
        "\n",
        "Python has its own wrapper to make a connection to a SQLite database. Also this package comes installed in the base version and you don't need to install anything to start using it. Because the database is simple, so is its code:"
      ]
    },
    {
      "cell_type": "code",
      "execution_count": null,
      "id": "41333e53",
      "metadata": {
        "id": "41333e53"
      },
      "outputs": [],
      "source": [
        "import sqlite3\n",
        "\n",
        "# A database named \"test.db\" is generated in the current directory\n",
        "con = sqlite3.connect(\"test.db\")\n",
        "\n",
        "### CREATE: Generate an empty database with 5 variables: ID, NAME, AGE, ADDRESS and SALARY\n",
        "con.execute(\"\"\"CREATE TABLE COMPANY\n",
        "    (ID INT PRIMARY KEY     NOT NULL,\n",
        "     NAME           TEXT    NOT NULL,\n",
        "     AGE            INT     NOT NULL,\n",
        "     ADDRESS        CHAR(50),\n",
        "     SALARY         REAL)\"\"\")\n",
        "\n",
        "### INSERT: Insert a record into the database\n",
        "con.execute(\"\"\"INSERT INTO COMPANY\n",
        "    VALUES (1, 'Richard', 40, 'Spain', 20000.00)\"\"\")\n",
        "\n",
        "con.execute(\"\"\"INSERT INTO COMPANY\n",
        "    VALUES (2, 'Óscar', 25, 'France', 15000.00)\"\"\")\n",
        "con.commit()\n",
        "\n",
        "### SELECT: Filter from database values\n",
        "#  The cursor allows you to define a set of results\n",
        "cursor = con.execute(\"SELECT * from COMPANY\")\n",
        "for row in cursor: # Itera por todas las filas del filtro resultante\n",
        "    print(f\"ID = {row[0]} NAME = {row[1]} ADDRESS = {row[2]} SALARY = {row[3}]}\")\n",
        "\n",
        "# The results can also be stored in a DataFrame using Pandas\n",
        "import pandas as pd\n",
        "cursor_df = pd.read_sql_query(\"SELECT * FROM COMPANY\", con)\n",
        "\n",
        "### UPDATE: Update a database record\n",
        "con.execute(\"UPDATE COMPANY set SALARY = 25000.00 where ID = 1\")\n",
        "con.commit()\n",
        "\n",
        "### DELETE: Delete one or more records from the database\n",
        "con.execute(\"DELETE from COMPANY where ID = 2\")\n",
        "con.commit()\n",
        "\n",
        "### Terminate database connection\n",
        "con.close()"
      ]
    },
    {
      "cell_type": "markdown",
      "id": "47ff3cba",
      "metadata": {
        "id": "47ff3cba"
      },
      "source": [
        "As you can see, this package provides a very friendly interface to create a portable and easy to use database. With just two statements, `con.execute()` and `con.commit()` we can do almost everything we need to interact with it. In contrast to `SQLAlchemy`, here it is necessary to know SQL syntax."
      ]
    },
    {
      "cell_type": "markdown",
      "id": "2f241b3f",
      "metadata": {
        "id": "2f241b3f"
      },
      "source": [
        "### Connecting to MySQL\n",
        "\n",
        "As a primary language to analyze data, `Python` also has its own wrapper to make a connection to a MySQL database, `PyMySQL`. Since it is a proprietary database, it requires prior installation on a server or operating system and its instantiation to be able to close the connection and be able to use it.\n",
        "\n",
        "#### Connection to the database\n",
        "\n",
        "MySQL itself will allow us to create a database by simply clicking on a button and entering a name. This database can then be referenced when establishing the connection. If we wish to use Python to create a database, we would simply omit the parameter in the call, as we will see below.\n",
        "\n",
        "##### 1. Table already created previously\n",
        "\n",
        "In this case we enter the information as follows to establish the connection."
      ]
    },
    {
      "cell_type": "code",
      "execution_count": null,
      "id": "e046e4f7",
      "metadata": {
        "id": "e046e4f7"
      },
      "outputs": [],
      "source": [
        "import pymysql\n",
        "\n",
        "con = pymysql.connect(host = \"localhost\",\n",
        "    user = \"root\",\n",
        "    password = \"pass\",\n",
        "    db = \"COMPANY\", # Name of the table if we have created it before\n",
        ")"
      ]
    },
    {
      "cell_type": "markdown",
      "id": "eeca3b9c",
      "metadata": {
        "id": "eeca3b9c"
      },
      "source": [
        "##### 2. Table not created\n",
        "\n",
        "In this case we simply remove the `db` argument from the call and execute the creation statement, detailing the columns and their characteristics. To do this we use the `cur.execute()` statement (this package requires a cursor to be defined for each call) and then select it with `con.select_db()`:"
      ]
    },
    {
      "cell_type": "code",
      "execution_count": null,
      "id": "77b67d26",
      "metadata": {
        "id": "77b67d26"
      },
      "outputs": [],
      "source": [
        "con = pymysql.connect(host = \"localhost\",\n",
        "    user = \"root\",\n",
        "    password = \"pass\"\n",
        ")\n",
        "cur = con.cursor()\n",
        "\n",
        "cur.execute(\"\"\"CREATE TABLE COMPANY\n",
        "    (ID INT PRIMARY KEY     NOT NULL,\n",
        "     NAME           TEXT    NOT NULL,\n",
        "     AGE            INT     NOT NULL,\n",
        "     ADDRESS        CHAR(50),\n",
        "     SALARY         REAL)\"\"\")\n",
        "\n",
        "con.select_db(\"COMPANY\")"
      ]
    },
    {
      "cell_type": "markdown",
      "id": "1c2ca510",
      "metadata": {
        "id": "1c2ca510"
      },
      "source": [
        "#### Using the database\n",
        "\n",
        "The execution of the statements that we already know about the database is the same as in the case of SQLite, with the `cur.execute()` and `con.commit()` functions, but with the difference that the execution is done with the cursor and not with the connection itself."
      ]
    },
    {
      "cell_type": "code",
      "execution_count": null,
      "id": "60a96ab7",
      "metadata": {
        "id": "60a96ab7"
      },
      "outputs": [],
      "source": [
        "### INSERT: Insert a record into the database\n",
        "cur.execute(\"\"\"INSERT INTO COMPANY\n",
        "    VALUES (1, 'Richard', 40, 'Spain', 20000.00)\"\"\")\n",
        "\n",
        "cur.execute(\"\"\"INSERT INTO COMPANY\n",
        "    VALUES (2, 'Óscar', 25, 'France', 15000.00)\"\"\")\n",
        "con.commit()\n",
        "\n",
        "### SELECT: Filter from database values\n",
        "cur.execute(\"SELECT * from COMPANY\")\n",
        "rows = cur.fetchall()\n",
        "for row in rows: # Itera por todas las filas del filtro resultante\n",
        "    print(f\"ID = {row[0]} NAME = {row[1]} ADDRESS = {row[2]} SALARY = {row[3]}\")\n",
        "\n",
        "# También se pueden almacenar los resultados en un DataFrame usando Pandas\n",
        "import pandas as pd\n",
        "cursor_df = pd.read_sql(\"SELECT * FROM COMPANY\", con)\n",
        "\n",
        "### UPDATE: Update a database record\n",
        "cur.execute(\"UPDATE COMPANY set SALARY = 25000.00 where ID = 1\")\n",
        "con.commit()\n",
        "\n",
        "### DELETE: Delete one or more records from the database\n",
        "cur.execute(\"DELETE from COMPANY where ID = 2\")\n",
        "con.commit()\n",
        "\n",
        "### Terminate database connection\n",
        "cur.close()\n",
        "con.close()"
      ]
    },
    {
      "cell_type": "markdown",
      "id": "d564fb81",
      "metadata": {
        "id": "d564fb81"
      },
      "source": [
        "### Connecting to PostgreSQL\n",
        "\n",
        "As a third alternative, to connect to PostgreSQL using `Python` there is also a library, `Psycopg2`. It is the most known and used wrapper although there are others as well. This package keeps the essence of PyMySQL statements, requiring for its use the connection and cursor objects. The connection is also very simple and we can either create a database with Python or connect directly to it through the package.\n",
        "\n",
        "#### Database connection\n",
        "\n",
        "PostgreSQL itself will allow us to create a database by simply clicking a button and entering a name. This database can then be referenced when establishing the connection. If we wish to use Python to create a database, we would simply omit the parameter in the call, as we will see below.\n",
        "\n",
        "##### 1. Table already created previously\n",
        "\n",
        "In this case we enter the information as follows to establish the connection."
      ]
    },
    {
      "cell_type": "code",
      "execution_count": null,
      "id": "459a36f5",
      "metadata": {
        "id": "459a36f5"
      },
      "outputs": [],
      "source": [
        "import psycopg2\n",
        "\n",
        "con = psycopg2.connect(host = \"localhost\",\n",
        "    user = \"root\",\n",
        "    password = \"pass\",\n",
        "    database = \"COMPANY\", # Name of the table if we have created it before\n",
        ")"
      ]
    },
    {
      "cell_type": "markdown",
      "id": "acaf7cc0",
      "metadata": {
        "id": "acaf7cc0"
      },
      "source": [
        "##### 2. Table not created\n",
        "\n",
        "In this case we simply remove the `database` argument from the call and execute the creation statement, detailing the columns and their characteristics. For this we use the `cur.execute()` and `con.commit()` statements:"
      ]
    },
    {
      "cell_type": "code",
      "execution_count": null,
      "id": "8ca2554d",
      "metadata": {
        "id": "8ca2554d"
      },
      "outputs": [],
      "source": [
        "con = psycopg2.connect(host = \"localhost\",\n",
        "    user = \"root\",\n",
        "    password = \"pass\"\n",
        ")\n",
        "cur = con.cursor()\n",
        "\n",
        "cur.execute(\"\"\"CREATE TABLE COMPANY\n",
        "    (ID INT PRIMARY KEY     NOT NULL,\n",
        "     NAME           TEXT    NOT NULL,\n",
        "     AGE            INT     NOT NULL,\n",
        "     ADDRESS        CHAR(50),\n",
        "     SALARY         REAL)\"\"\")\n",
        "con.commit()"
      ]
    },
    {
      "cell_type": "markdown",
      "id": "06608722",
      "metadata": {
        "id": "06608722"
      },
      "source": [
        "#### Using the database\n",
        "\n",
        "The execution of the sentences that we already know about the database is the same as in the case of MySQL, with the `cur.execute()` and `con.commit()` functions, but with the difference that the execution is done with the cursor and not with the connection itself."
      ]
    },
    {
      "cell_type": "code",
      "execution_count": null,
      "id": "16ab3848",
      "metadata": {
        "id": "16ab3848"
      },
      "outputs": [],
      "source": [
        "### INSERT: Insert a record into the database\n",
        "cur.execute(\"\"\"INSERT INTO COMPANY\n",
        "    VALUES (1, 'Richard', 40, 'Spain', 20000.00)\"\"\")\n",
        "\n",
        "cur.execute(\"\"\"INSERT INTO COMPANY\n",
        "    VALUES (2, 'Óscar', 25, 'France', 15000.00)\"\"\")\n",
        "con.commit()\n",
        "\n",
        "### SELECT: Filter from database values\n",
        "cur.execute(\"SELECT * from COMPANY\")\n",
        "rows = cur.fetchall()\n",
        "for row in rows: # Itera por todas las filas del filtro resultante\n",
        "    print(f\"ID = {row[0]} NAME = {row[1]} ADDRESS = {row[2]} SALARY = {row[3]}\")\n",
        "con.commit()\n",
        "\n",
        "# También se pueden almacenar los resultados en un DataFrame usando Pandas\n",
        "import pandas as pd\n",
        "cursor_df = pd.read_sql(\"SELECT * FROM COMPANY\", con)\n",
        "\n",
        "### UPDATE: Update a database record\n",
        "cur.execute(\"UPDATE COMPANY set SALARY = 25000.00 where ID = 1\")\n",
        "con.commit()\n",
        "\n",
        "### DELETE: Delete one or more records from the database\n",
        "cur.execute(\"DELETE from COMPANY where ID = 2\")\n",
        "con.commit()\n",
        "\n",
        "### Terminate database connection\n",
        "cur.close()\n",
        "con.close()"
      ]
    },
    {
      "cell_type": "markdown",
      "id": "c4f501e9",
      "metadata": {
        "id": "c4f501e9"
      },
      "source": [
        "Although in this lesson we have exemplified the code for the three packages, it is remarkable that the syntax is practically the same, especially in the case of `PyMySQL` and `Psycopg2`. These codes will serve as a guide to quickly learn how to interact with the most used relational databases in the world of data analysis."
      ]
    }
  ],
  "metadata": {
    "kernelspec": {
      "display_name": "Python 3 (ipykernel)",
      "language": "python",
      "name": "python3"
    },
    "language_info": {
      "codemirror_mode": {
        "name": "ipython",
        "version": 3
      },
      "file_extension": ".py",
      "mimetype": "text/x-python",
      "name": "python",
      "nbconvert_exporter": "python",
      "pygments_lexer": "ipython3",
      "version": "3.9.7"
    },
    "colab": {
      "provenance": []
    }
  },
  "nbformat": 4,
  "nbformat_minor": 5
}