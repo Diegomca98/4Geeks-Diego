{
  "nbformat": 4,
  "nbformat_minor": 0,
  "metadata": {
    "colab": {
      "provenance": [],
      "include_colab_link": true
    },
    "kernelspec": {
      "name": "python3",
      "display_name": "Python 3"
    },
    "language_info": {
      "name": "python"
    }
  },
  "cells": [
    {
      "cell_type": "markdown",
      "metadata": {
        "id": "view-in-github",
        "colab_type": "text"
      },
      "source": [
        "<a href=\"https://colab.research.google.com/github/Diegomca98/4Geeks-Diego/blob/main/00-classwork/Manipulaci%C3%B3n_de_Datos_con_Pandas.ipynb\" target=\"_parent\"><img src=\"https://colab.research.google.com/assets/colab-badge.svg\" alt=\"Open In Colab\"/></a>"
      ]
    },
    {
      "cell_type": "markdown",
      "source": [
        "# Pandas\n",
        "\n",
        "Herramienta de manipulación de datos de alto nivel, construida sobre Numpy y permite el análisis y limpieza de datos en bruto.\n",
        "\n",
        "Los principales tipos de datos que pueden representarse con pandas son:\n",
        "\n",
        "* Datos tabulares que tienen columnas de tipo heterogéneo con etiquetas en columnas y filas.\n",
        "* Series temporales\n",
        "\n",
        "Permite leer y escribir datos en diferentes formatos como lo son: CSV, JSON, Excel, bases SQL"
      ],
      "metadata": {
        "id": "J_0WFRmbFN7M"
      }
    },
    {
      "cell_type": "markdown",
      "source": [
        "Se instala empleando\n",
        "\n",
        "* pip install pandas\n",
        "* conda install pandas"
      ],
      "metadata": {
        "id": "OP48dZpJIhhU"
      }
    },
    {
      "cell_type": "markdown",
      "source": [
        "# Manipulación de datos con pandas"
      ],
      "metadata": {
        "id": "8eO3xaMIItSf"
      }
    },
    {
      "cell_type": "code",
      "execution_count": null,
      "metadata": {
        "id": "VkwTLkWnFBJT"
      },
      "outputs": [],
      "source": [
        "# Importar librerias\n",
        "import pandas as pd # Importar pandas\n",
        "import numpy  as np # Importar numpy"
      ]
    },
    {
      "cell_type": "code",
      "source": [
        "# Leer archivos separados por comas, extension .csv\n",
        "df = pd.read_csv('/content/Phone.csv')\n",
        "df.head(5) ## mostrar primeros 5 registros"
      ],
      "metadata": {
        "id": "2CYX_rxMJgol"
      },
      "execution_count": null,
      "outputs": []
    },
    {
      "cell_type": "code",
      "source": [
        "# dimensiones del dataframe\n",
        "df.shape"
      ],
      "metadata": {
        "id": "NT6nCgs9KJ4H"
      },
      "execution_count": null,
      "outputs": []
    },
    {
      "cell_type": "code",
      "source": [
        "# Información genral del data frame\n",
        "df.info()"
      ],
      "metadata": {
        "id": "fTW5nyJvKQoW"
      },
      "execution_count": null,
      "outputs": []
    },
    {
      "cell_type": "code",
      "source": [
        "# Tipos de datos que existen en las columnas del dataframe\n",
        "df.dtypes"
      ],
      "metadata": {
        "id": "BUo5AQwDLBnA"
      },
      "execution_count": null,
      "outputs": []
    },
    {
      "cell_type": "markdown",
      "source": [
        "El metodo .describe() de los dataframes muestra un resumen de la estadistica descriptiva general de las columnas numericas del dataframe.\n",
        "\n",
        "* Promedio (mean)\n",
        "* Desviacion estandard (std)\n",
        "* Valor minimo\n",
        "* Valor maximo\n",
        "* Cuartiles (25%, 50% y 75%)"
      ],
      "metadata": {
        "id": "HISr5nQVLpHW"
      }
    },
    {
      "cell_type": "code",
      "source": [
        "df.describe() # No muestra la informacion de las columnas categoricas"
      ],
      "metadata": {
        "id": "dCenh1ezLRym"
      },
      "execution_count": null,
      "outputs": []
    },
    {
      "cell_type": "markdown",
      "source": [
        "Seleccion e Indexación"
      ],
      "metadata": {
        "id": "EnGl7soyL_Fo"
      }
    },
    {
      "cell_type": "code",
      "source": [
        "df.describe( include=['O']) # Mostrar variables categoricas"
      ],
      "metadata": {
        "id": "yoVQ7GBMS_tO"
      },
      "execution_count": null,
      "outputs": []
    },
    {
      "cell_type": "code",
      "source": [
        "# Regresara todos los datos de la columna Phone_type\n",
        "df['Phone_type']"
      ],
      "metadata": {
        "id": "MYqMn1mhMAhb"
      },
      "execution_count": null,
      "outputs": []
    },
    {
      "cell_type": "code",
      "source": [
        "# Seleccionar dos o mas columnas\n",
        "\n",
        "df[['Phone_type','Income']]"
      ],
      "metadata": {
        "id": "5LkCS3b9MJqI"
      },
      "execution_count": null,
      "outputs": []
    },
    {
      "cell_type": "code",
      "source": [
        "## Crear una nueva columna\n",
        "\n",
        "df['Income_Descuento'] = df.Income * 0.20\n",
        "df.head()"
      ],
      "metadata": {
        "id": "9FRwrAk2MdNG"
      },
      "execution_count": null,
      "outputs": []
    },
    {
      "cell_type": "code",
      "source": [
        "df.drop('Income_Descuento',axis=1) # axis = 0 elimina filas(index) axis = 1 elimina columnas"
      ],
      "metadata": {
        "id": "9CdmmomhMzr9"
      },
      "execution_count": null,
      "outputs": []
    },
    {
      "cell_type": "code",
      "source": [
        "df.head()"
      ],
      "metadata": {
        "id": "5Am7nLDQNXNR"
      },
      "execution_count": null,
      "outputs": []
    },
    {
      "cell_type": "code",
      "source": [
        "# Para que quede grabado\n",
        "\n",
        "# df = df.drop('Income_Descuento',axis=1) # Forma 1\n",
        "df.drop('Income_Descuento', axis=1, inplace=True) # Forma 2"
      ],
      "metadata": {
        "id": "X5tT-8BRNZtL"
      },
      "execution_count": null,
      "outputs": []
    },
    {
      "cell_type": "code",
      "source": [
        "df.head()"
      ],
      "metadata": {
        "id": "dw9f7iF0Nnbb"
      },
      "execution_count": null,
      "outputs": []
    },
    {
      "cell_type": "code",
      "source": [
        "df.columns # nombres de las columnas"
      ],
      "metadata": {
        "id": "NCrouIhCNutd"
      },
      "execution_count": null,
      "outputs": []
    },
    {
      "cell_type": "code",
      "source": [
        "df.index # nombres de los indices"
      ],
      "metadata": {
        "id": "uXczg4pQNv8y"
      },
      "execution_count": null,
      "outputs": []
    },
    {
      "cell_type": "markdown",
      "source": [
        "Filtros"
      ],
      "metadata": {
        "id": "tWxoz0BLN8QO"
      }
    },
    {
      "cell_type": "code",
      "source": [
        "# seleccionar todas las filas donde el valor Income sea mayor que 0\n",
        "df[df['Income']>0]"
      ],
      "metadata": {
        "id": "qdkJiT_7N9X-"
      },
      "execution_count": null,
      "outputs": []
    },
    {
      "cell_type": "code",
      "source": [
        "## Forma 2\n",
        "df.query('Income > 0')"
      ],
      "metadata": {
        "id": "0bE-xTZtOLeo"
      },
      "execution_count": null,
      "outputs": []
    },
    {
      "cell_type": "code",
      "source": [
        "# Seleccionar las filas donde Income sea mayor que cero y Phone Type sea igual a Android\n",
        "df[(df['Income']>0) & (df['Phone_type']=='Android')]"
      ],
      "metadata": {
        "id": "rXVSbVt6OVV0"
      },
      "execution_count": null,
      "outputs": []
    },
    {
      "cell_type": "markdown",
      "source": [
        "Datos Faltantes (Missing data)"
      ],
      "metadata": {
        "id": "n9-x0m9XPDud"
      }
    },
    {
      "cell_type": "code",
      "source": [
        "# Verificar si hay datos faltantes por columna\n",
        "df.isnull().any()"
      ],
      "metadata": {
        "id": "NgOlYrv7PH_2"
      },
      "execution_count": null,
      "outputs": []
    },
    {
      "cell_type": "code",
      "source": [
        "# Numero de datos faltantes por columna\n",
        "df.isnull().sum()"
      ],
      "metadata": {
        "id": "M_BfFj-MPOoc"
      },
      "execution_count": null,
      "outputs": []
    },
    {
      "cell_type": "code",
      "source": [
        "# Max cantidad de datos faltantes para un registro\n",
        "max(df.isnull().sum(axis=1))"
      ],
      "metadata": {
        "id": "GIP7g-0ZPcmP"
      },
      "execution_count": null,
      "outputs": []
    },
    {
      "cell_type": "code",
      "source": [
        "# Eliminar todas las filas que tengan datos faltantes\n",
        "df.dropna(axis=0) # cuando son filas no es neceario escribir axis=0"
      ],
      "metadata": {
        "id": "cnaYDsWoQ0Je"
      },
      "execution_count": null,
      "outputs": []
    },
    {
      "cell_type": "code",
      "source": [
        "# Eliminar todas las columnas que tengan datos faltantes\n",
        "df.dropna(axis=1)"
      ],
      "metadata": {
        "id": "--AMV5lyQ7BS"
      },
      "execution_count": null,
      "outputs": []
    },
    {
      "cell_type": "markdown",
      "source": [
        "Imputar datos faltantes"
      ],
      "metadata": {
        "id": "6eHst4IARGIM"
      }
    },
    {
      "cell_type": "code",
      "source": [
        "# Llenar los datos faltantes con el dato que nos interese\n",
        "df.fillna(value=0)"
      ],
      "metadata": {
        "id": "wePVEOiARII9"
      },
      "execution_count": null,
      "outputs": []
    },
    {
      "cell_type": "code",
      "source": [
        "# Llenar los datos faltantes con el promedio de esa columna\n",
        "df['Income'].fillna(value=df['Income'].mean())"
      ],
      "metadata": {
        "id": "SqBv-ZUERlJq"
      },
      "execution_count": null,
      "outputs": []
    },
    {
      "cell_type": "code",
      "source": [
        "## Datos unicos\n",
        "\n",
        "df['Phone_type'].unique()"
      ],
      "metadata": {
        "id": "upHCkCsbRvYP"
      },
      "execution_count": null,
      "outputs": []
    },
    {
      "cell_type": "code",
      "source": [
        "# Numero de valores unicos en el dataframe\n",
        "df['Class_type'].nunique()"
      ],
      "metadata": {
        "id": "3QSHV5xLSEMF"
      },
      "execution_count": null,
      "outputs": []
    },
    {
      "cell_type": "markdown",
      "source": [
        "Estadistica Descriptiva"
      ],
      "metadata": {
        "id": "aXiqmHQrSMzM"
      }
    },
    {
      "cell_type": "code",
      "source": [
        "# Media Aritmetica\n",
        "df.Income.mean()"
      ],
      "metadata": {
        "id": "wOtljadmSVDt"
      },
      "execution_count": null,
      "outputs": []
    },
    {
      "cell_type": "code",
      "source": [
        "# Mediana\n",
        "df.Income.median()"
      ],
      "metadata": {
        "id": "Y4ISJh6iSkvU"
      },
      "execution_count": null,
      "outputs": []
    },
    {
      "cell_type": "code",
      "source": [
        "# Mediana\n",
        "df.Income.max()"
      ],
      "metadata": {
        "colab": {
          "base_uri": "https://localhost:8080/"
        },
        "id": "7f5-K7WOSriY",
        "outputId": "3ff14aa7-a917-417d-fc80-b0d7875c7a58"
      },
      "execution_count": null,
      "outputs": [
        {
          "output_type": "execute_result",
          "data": {
            "text/plain": [
              "145100.0"
            ]
          },
          "metadata": {},
          "execution_count": 45
        }
      ]
    },
    {
      "cell_type": "code",
      "source": [
        "# Minimo\n",
        "df.Income.min()"
      ],
      "metadata": {
        "id": "2Z-yecE6S6Co"
      },
      "execution_count": null,
      "outputs": []
    },
    {
      "cell_type": "code",
      "source": [
        "# Moda\n",
        "df.Income.mode()"
      ],
      "metadata": {
        "id": "5oSq20upTyu8"
      },
      "execution_count": null,
      "outputs": []
    },
    {
      "cell_type": "code",
      "source": [
        "## Cantidad de datos por Phone_type\n",
        "\n",
        "df.Phone_type.value_counts()"
      ],
      "metadata": {
        "id": "_e1sLluvUHe7"
      },
      "execution_count": null,
      "outputs": []
    },
    {
      "cell_type": "code",
      "source": [
        "## Cantidad de datos por Class_type\n",
        "\n",
        "df.Class_type.value_counts()"
      ],
      "metadata": {
        "id": "BiwdhwN2URsS"
      },
      "execution_count": null,
      "outputs": []
    },
    {
      "cell_type": "markdown",
      "source": [
        "Medidas de dispersión"
      ],
      "metadata": {
        "id": "tZJtmljtUDTS"
      }
    },
    {
      "cell_type": "code",
      "source": [
        "# Varianza\n",
        "df.Income.var()"
      ],
      "metadata": {
        "id": "ebAB8fQoUuOH"
      },
      "execution_count": null,
      "outputs": []
    },
    {
      "cell_type": "code",
      "source": [
        "# Desviación tipica o desviación estandar\n",
        "df.Income.std()"
      ],
      "metadata": {
        "id": "EWcaqOYLUXZt"
      },
      "execution_count": null,
      "outputs": []
    }
  ]
}