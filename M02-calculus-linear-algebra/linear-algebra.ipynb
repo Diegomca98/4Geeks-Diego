{
  "cells": [
    {
      "cell_type": "markdown",
      "id": "52d41e2c",
      "metadata": {
        "id": "52d41e2c"
      },
      "source": [
        "## Linear Algebra"
      ]
    },
    {
      "cell_type": "markdown",
      "id": "c6736e5d",
      "metadata": {
        "id": "c6736e5d"
      },
      "source": [
        "**Linear algebra** is the branch of linear equations mathematics that uses vector space and matrices.\n",
        "\n",
        "The two primary mathematical entities that are of interest in linear algebra are the **vector** and the **matrix**. They are examples of a more general entity known as a tensor. Tensors possess an order (or rank), which determines the number of dimensions in a matrix required to represent it.\n",
        "\n",
        "**vectors**: A set of numerical elements of a particular size and one-dimensional. For example:\n",
        "\n",
        "$$\\begin{matrix} 3 \\\\ 4 \\\\ 5 \\end{matrix}$$\n",
        "\n",
        "`numpy` is the best library to work with these data structures. Some examples for generating random vectors are:"
      ]
    },
    {
      "cell_type": "code",
      "execution_count": 2,
      "id": "f13403ab",
      "metadata": {
        "id": "f13403ab",
        "outputId": "c4ff718e-4a72-45c6-8167-71621cc41151",
        "colab": {
          "base_uri": "https://localhost:8080/"
        }
      },
      "outputs": [
        {
          "output_type": "stream",
          "name": "stdout",
          "text": [
            "[1. 1. 1. 1. 1. 1. 1. 1. 1. 1.]\n",
            "[ 3.          4.33333333  5.66666667  7.          8.33333333  9.66666667\n",
            " 11.         12.33333333 13.66666667 15.        ]\n",
            "[0.89848638 0.24054948 0.33867959 0.29739703 0.57062157 0.6345385\n",
            " 0.82877759 0.15861117 0.40068766 0.75937137]\n",
            "[1 2 5 5 9 1 7 2 8 8]\n"
          ]
        }
      ],
      "source": [
        "import numpy as np\n",
        "\n",
        "# Vector of 10 ones\n",
        "a1 = np.ones(10)\n",
        "print(a1)\n",
        "\n",
        "# Vector of 10 numbers that have the same distance from each other, starting with 3 and ending with 15\n",
        "a2 = np.linspace(3, 15, 10)\n",
        "print(a2)\n",
        "\n",
        "# Vector of 10 random numbers between [0, 1)\n",
        "a3 = np.random.rand(10)\n",
        "print(a3)\n",
        "\n",
        "# Vector of 10 random numbers between [1, 10)\n",
        "a4 = np.random.randint(1, 10, size=10)\n",
        "print(a4)"
      ]
    },
    {
      "cell_type": "markdown",
      "id": "bd631630",
      "metadata": {
        "id": "bd631630"
      },
      "source": [
        "**Matrix**: A set of vectors that form a rectangular structure with rows and columns. For example:\n",
        "\n",
        "$$\\begin{matrix} 3 & 4 \\\\ 5 & 6 \\end{matrix}$$\n",
        "\n",
        "With `numpy` you can also work with this library to generate arrays. Some examples of how to generate them are:"
      ]
    },
    {
      "cell_type": "code",
      "execution_count": null,
      "id": "8948deb3",
      "metadata": {
        "id": "8948deb3",
        "outputId": "e936dc2f-9a6f-406f-a6e9-f456d5e1c27b"
      },
      "outputs": [
        {
          "name": "stdout",
          "output_type": "stream",
          "text": [
            "[[1. 0. 0. 0. 0.]\n",
            " [0. 1. 0. 0. 0.]\n",
            " [0. 0. 1. 0. 0.]\n",
            " [0. 0. 0. 1. 0.]\n",
            " [0. 0. 0. 0. 1.]]\n",
            "[[0.97199946 0.5296357 ]\n",
            " [0.69120675 0.36958526]\n",
            " [0.12795664 0.11455272]]\n",
            "[[18 12  7 10 15]\n",
            " [16  5  8 16 13]\n",
            " [ 6 13 17 17 16]\n",
            " [ 6 15  9  7  9]\n",
            " [15  7 11 11 17]\n",
            " [18 12 11  5 11]\n",
            " [17  6 17  8 12]]\n"
          ]
        }
      ],
      "source": [
        "# 5x5 Identity matrix (5 rows, 5 columns)\n",
        "m1 = np.identity(5)\n",
        "print(m1)\n",
        "\n",
        "# 3x2 (3 rows, 2 columns) matrix with random numbers between [0, 1)\n",
        "m2 = np.random.rand(3, 2)\n",
        "print(m2)\n",
        "\n",
        "# 7x5 matrix (7 rows, 5 columns) with random numbers between 5 and 19\n",
        "m3 = np.random.randint(5, 19, size=(7, 5))\n",
        "print(m3)"
      ]
    },
    {
      "cell_type": "markdown",
      "id": "fe0d8d03",
      "metadata": {
        "id": "fe0d8d03"
      },
      "source": [
        "**Tensors: Tensors are a matrix of numbers or functions that transmute with certain rules when the coordinates change. Usually the work with tensors is more advanced and requires more Machine Learning and model oriented libraries like `TensorFlow` or `PyTorch`.\n",
        "\n",
        "Machine Learning*** is the contact point for Computer Science and Statistics.\n",
        "\n",
        "### Vectors\n",
        "\n",
        "Since scalars exist to represent values, why are vectors necessary? One of the main use cases for vectors is to represent physical quantities that have both a magnitude and a direction. Scalars are only capable of representing magnitudes.\n",
        "\n",
        "For example, scalars and vectors encode the difference between the speed of a car and its velocity. The velocity contains not only its speed, but also its direction of travel.\n",
        "\n",
        "In Machine Learning, vectors often represent feature vectors, with their individual components specifying how important a particular feature is. Such features might include the relative importance of words in a text document, the intensity of a set of pixels in a two-dimensional image, or historical price values for a representative sample of financial instruments.\n",
        "\n",
        "**Scalar Operations**\n",
        "\n",
        "Scalar operations involve a vector and a number.\n"
      ]
    },
    {
      "cell_type": "markdown",
      "id": "ef717237",
      "metadata": {
        "id": "ef717237"
      },
      "source": [
        "![linear_algebra_scalar_operations.png](https://github.com/4GeeksAcademy/machine-learning-content/blob/master/assets/linear_algebra_scalar_operations.png?raw=true)"
      ]
    },
    {
      "cell_type": "code",
      "execution_count": null,
      "id": "2d55183a",
      "metadata": {
        "id": "2d55183a",
        "outputId": "686c7cb4-349f-4a8a-9688-cda0ce39cd8a"
      },
      "outputs": [
        {
          "name": "stdout",
          "output_type": "stream",
          "text": [
            "[3 4 5 6]\n",
            "[0 1 2 3]\n",
            "[10 20 30 40]\n",
            "[0.2 0.4 0.6 0.8]\n"
          ]
        }
      ],
      "source": [
        "# Adding a scalar and a vector. In the following example, each element of the vector will have a 2 added to it\n",
        "a1 = np.array([1, 2, 3, 4])\n",
        "print(a1 + 2)\n",
        "\n",
        "# Subtract a scalar and a vector. In the following example, each element of the vector will have a 1 subtracted from it\n",
        "print(a1 - 1)\n",
        "\n",
        "# Multiplying a scalar and a vector. In the following example, each element of the vector will be multiplied by 10\n",
        "print(a1 * 10)\n",
        "\n",
        "# Dividing a scalar and a vector. In the following example, each element of the vector will be divided by 5\n",
        "print(a1 / 5)"
      ]
    },
    {
      "cell_type": "markdown",
      "id": "ae8ef9bb",
      "metadata": {
        "id": "ae8ef9bb"
      },
      "source": [
        "**Vector multiplication**\n",
        "\n",
        "There are two types of vector multiplication: dot product and Hadamard product.\n",
        "\n",
        "The dot product of two vectors is a scalar. The dot product of vectors and matrices (matrix multiplication) is one of the most important operations in deep learning."
      ]
    },
    {
      "cell_type": "markdown",
      "id": "146d59b5",
      "metadata": {
        "id": "146d59b5"
      },
      "source": [
        "![linear_algebra_dot_product.png](https://github.com/4GeeksAcademy/machine-learning-content/blob/master/assets/linear_algebra_dot_product.png?raw=true)"
      ]
    },
    {
      "cell_type": "code",
      "execution_count": 3,
      "id": "e8d5c787",
      "metadata": {
        "id": "e8d5c787",
        "outputId": "a0cd911e-295b-4be8-ced2-69218f981206",
        "colab": {
          "base_uri": "https://localhost:8080/"
        }
      },
      "outputs": [
        {
          "output_type": "stream",
          "name": "stdout",
          "text": [
            "[1 2 3 4] [ 0.          6.66666667 13.33333333 20.        ]\n"
          ]
        },
        {
          "output_type": "execute_result",
          "data": {
            "text/plain": [
              "133.33333333333334"
            ]
          },
          "metadata": {},
          "execution_count": 3
        }
      ],
      "source": [
        "a1 = np.array([1, 2, 3, 4])\n",
        "a2 = np.linspace(0, 20, 4)\n",
        "\n",
        "print(a1, a2)\n",
        "a1.dot(a2)"
      ]
    },
    {
      "cell_type": "markdown",
      "id": "dcd1d399",
      "metadata": {
        "id": "dcd1d399"
      },
      "source": [
        "The Hadamard product is a multiplication by elements and generates a vector."
      ]
    },
    {
      "cell_type": "markdown",
      "id": "a472d811",
      "metadata": {
        "id": "a472d811"
      },
      "source": [
        "![linear_algebra_hadamard_product.png](https://github.com/4GeeksAcademy/machine-learning-content/blob/master/assets/linear_algebra_hadamard_product.png?raw=true)"
      ]
    },
    {
      "cell_type": "code",
      "execution_count": null,
      "id": "f3ff69ba",
      "metadata": {
        "id": "f3ff69ba",
        "outputId": "63346ca2-ed1a-4a0f-ecf0-7d0de80b0f57"
      },
      "outputs": [
        {
          "data": {
            "text/plain": [
              "array([10, 20, 30, 40])"
            ]
          },
          "execution_count": 5,
          "metadata": {},
          "output_type": "execute_result"
        }
      ],
      "source": [
        "a1 = np.array([1, 2, 3, 4])\n",
        "a2 = np.array([10, 10, 10, 10])\n",
        "\n",
        "a1 * a2"
      ]
    },
    {
      "cell_type": "markdown",
      "id": "72c4b002",
      "metadata": {
        "id": "72c4b002"
      },
      "source": [
        "### Matrices\n",
        "\n",
        "A **matrix** is a rectangular grid of numbers or terms (like an Excel spreadsheet) with special rules for addition, subtraction, and multiplication.\n",
        "\n",
        "Matrix dimensions: We describe the dimensions of a matrix in terms of rows by columns.\n",
        "\n",
        "**Scalar matrix operations**\n",
        "\n",
        "Scalar operations with matrices work the same way as with vectors.\n",
        "\n",
        "You simply apply the scalar to each element of the matrix - add, subtract, divide, multiply, etc."
      ]
    },
    {
      "cell_type": "markdown",
      "id": "5d17dd5a",
      "metadata": {
        "id": "5d17dd5a"
      },
      "source": [
        "![matrix_scalar_operations.png](https://github.com/4GeeksAcademy/machine-learning-content/blob/master/assets/matrix_scalar_operations.png?raw=true)"
      ]
    },
    {
      "cell_type": "code",
      "execution_count": null,
      "id": "08ab37bd",
      "metadata": {
        "id": "08ab37bd",
        "outputId": "49124398-c6a8-4121-e5df-17fae9139ea3"
      },
      "outputs": [
        {
          "name": "stdout",
          "output_type": "stream",
          "text": [
            "[[11 12 13 14]\n",
            " [15 16 17 18]]\n",
            "[[-4 -3 -2 -1]\n",
            " [ 0  1  2  3]]\n",
            "[[ 3  6  9 12]\n",
            " [15 18 21 24]]\n",
            "[[0.5 1.  1.5 2. ]\n",
            " [2.5 3.  3.5 4. ]]\n"
          ]
        }
      ],
      "source": [
        "# Add a scalar and a matrix (in this case of 2 rows and 4 columns). In the following example, each element of the matrix will have a 10 added to it\n",
        "m1 = np.array([[1, 2, 3, 4], [5, 6, 7, 8]])\n",
        "print(m1 + 10)\n",
        "\n",
        "# Subtract a scalar and a matrix. In the following example, each element of the matrix will have a 5 subtracted from it\n",
        "print(m1 - 5)\n",
        "\n",
        "# Multiplying a scalar and a matrix. In the following example, each element of the matrix will be multiplied by 3\n",
        "print(m1 * 3)\n",
        "\n",
        "# Dividing a scalar and a matrix. In the following example, each element of the matrix will be divided by 2\n",
        "print(m1 / 2)"
      ]
    },
    {
      "cell_type": "markdown",
      "id": "f9058573",
      "metadata": {
        "id": "f9058573"
      },
      "source": [
        "**Operations with matrix elements**\n",
        "\n",
        "To add, subtract or divide two matrices they must have the same dimensions. We combine the corresponding values in an elementary way to produce a new matrix."
      ]
    },
    {
      "cell_type": "markdown",
      "id": "f82a710e",
      "metadata": {
        "id": "f82a710e"
      },
      "source": [
        "![matrix_elementwise_operations.png](https://github.com/4GeeksAcademy/machine-learning-content/blob/master/assets/matrix_elementwise_operations.png?raw=true)"
      ]
    },
    {
      "cell_type": "code",
      "execution_count": null,
      "id": "fe8fdd2b",
      "metadata": {
        "id": "fe8fdd2b",
        "outputId": "7fa78e95-b4ce-4756-e167-bfb3e1837bb9"
      },
      "outputs": [
        {
          "name": "stdout",
          "output_type": "stream",
          "text": [
            "[[ 3  6  9 12]\n",
            " [ 4  4  4  4]]\n",
            "[[-1 -2 -3 -4]\n",
            " [ 6  8 10 12]]\n",
            "[[ 0.5         0.5         0.5         0.5       ]\n",
            " [-5.         -3.         -2.33333333 -2.        ]]\n"
          ]
        }
      ],
      "source": [
        "m1 = np.array([[1, 2, 3, 4], [5, 6, 7, 8]])\n",
        "m2 = np.array([[2, 4, 6, 8], [-1, -2, -3, -4]])\n",
        "\n",
        "# Add two matrices. They must have the same dimension (same number of rows and columns). The elements in the same position of the first matrix and the second matrix are added together\n",
        "print(m1 + m2)\n",
        "\n",
        "# Subtract two matrices. They must have the same dimension (same number of rows and columns). The elements in the same position of the first matrix and the second matrix are subtracted\n",
        "print(m1 - m2)\n",
        "\n",
        "# Split two matrices. They must have the same dimension (same number of rows and columns). The elements in the same position of the first matrix and the second matrix are divided\n",
        "print(m1 / m2)"
      ]
    },
    {
      "cell_type": "markdown",
      "id": "51e19bb2",
      "metadata": {
        "id": "51e19bb2"
      },
      "source": [
        "**Matrix multiplication**\n",
        "\n",
        "There are two types of matrix multiplication: dot product and Hadamard product.\n",
        "\n",
        "The dot product of two matrices is a matrix with the number of rows of the first matrix and the number of columns of the second matrix. There must be equality between the number of columns of the first and the number of rows of the second. That is, if matrix A has dimensions of $5$ x $3$ (5 rows and 3 columns) and matrix B has dimensions of $3$ x $2$ (3 rows and 2 columns), the resulting matrix after multiplying them will have dimensions of $5$ x $2$ (and they can be multiplied because the first one has 3 columns and the second one has 3 rows).\n",
        "\n",
        "In the dot product of matrices, the element $c_{ij}$ of the product matrix is obtained by multiplying each element of row $i$ of matrix A by each element of column $j$ of matrix B and adding them together."
      ]
    },
    {
      "cell_type": "code",
      "execution_count": 5,
      "id": "51cff7f3",
      "metadata": {
        "id": "51cff7f3",
        "outputId": "9610fba6-4b2a-4e68-824b-1564027b8fd1",
        "colab": {
          "base_uri": "https://localhost:8080/"
        }
      },
      "outputs": [
        {
          "output_type": "stream",
          "name": "stdout",
          "text": [
            "(2, 4) (4, 2)\n"
          ]
        },
        {
          "output_type": "execute_result",
          "data": {
            "text/plain": [
              "array([[-1, -2],\n",
              "       [15, 22]])"
            ]
          },
          "metadata": {},
          "execution_count": 5
        }
      ],
      "source": [
        "m1 = np.array([[1, 2, 3, 4], [5, 6, 7, 8]])\n",
        "m2 = np.array([[2, 4], [6, 8], [-1, -2], [-3, -4]])\n",
        "\n",
        "print(m1.shape, m2.shape)\n",
        "\n",
        "m1.dot(m2)"
      ]
    },
    {
      "cell_type": "markdown",
      "id": "e2a1331e",
      "metadata": {
        "id": "e2a1331e"
      },
      "source": [
        "The Hadamard product of matrices is an elementary operation. Positionally corresponding values are multiplied to produce a new matrix."
      ]
    },
    {
      "cell_type": "markdown",
      "id": "6424f65e",
      "metadata": {
        "id": "6424f65e"
      },
      "source": [
        "![matrix_hadamard_operations.png](https://github.com/4GeeksAcademy/machine-learning-content/blob/master/assets/matrix_hadamard_operations.png?raw=true)"
      ]
    },
    {
      "cell_type": "code",
      "execution_count": null,
      "id": "13f82bb0",
      "metadata": {
        "id": "13f82bb0",
        "outputId": "061cbb99-ade4-4bf9-b61f-b455d461b506"
      },
      "outputs": [
        {
          "data": {
            "text/plain": [
              "array([[  2,   8,  18,  32],\n",
              "       [ -5, -12, -21, -32]])"
            ]
          },
          "execution_count": 9,
          "metadata": {},
          "output_type": "execute_result"
        }
      ],
      "source": [
        "m1 = np.array([[1, 2, 3, 4], [5, 6, 7, 8]])\n",
        "m2 = np.array([[2, 4, 6, 8], [-1, -2, -3, -4]])\n",
        "\n",
        "m1 * m2"
      ]
    },
    {
      "cell_type": "markdown",
      "id": "2800ccac",
      "metadata": {
        "id": "2800ccac"
      },
      "source": [
        "**Matrix transpose**\n",
        "\n",
        "Matrix transpose provides a way to \"rotate\" one of the matrices so that the operation meets the multiplication requirements and can continue.\n",
        "\n",
        "There are two steps to transpose a matrix:\n",
        "\n",
        "1. Rotate the matrix 90° to the right 2.\n",
        "2. Reverse the order of the elements in each row (e.g., $[a b c]$ becomes $[c b a]$)."
      ]
    },
    {
      "cell_type": "code",
      "execution_count": null,
      "id": "932c5dee",
      "metadata": {
        "id": "932c5dee",
        "outputId": "425dd76e-d13c-4112-b650-cb7f793d69a4"
      },
      "outputs": [
        {
          "data": {
            "text/plain": [
              "array([[1, 5],\n",
              "       [2, 6],\n",
              "       [3, 7],\n",
              "       [4, 8]])"
            ]
          },
          "execution_count": 10,
          "metadata": {},
          "output_type": "execute_result"
        }
      ],
      "source": [
        "m1 = np.array([[1, 2, 3, 4], [5, 6, 7, 8]])\n",
        "\n",
        "m1.T"
      ]
    },
    {
      "cell_type": "code",
      "execution_count": null,
      "id": "8c6b6aa3",
      "metadata": {
        "id": "8c6b6aa3",
        "outputId": "919c4572-74b1-4634-bace-45f8abe10a4a"
      },
      "outputs": [
        {
          "data": {
            "text/plain": [
              "array([[1, 5],\n",
              "       [2, 6],\n",
              "       [3, 7],\n",
              "       [4, 8]])"
            ]
          },
          "execution_count": 11,
          "metadata": {},
          "output_type": "execute_result"
        }
      ],
      "source": [
        "m1.transpose()"
      ]
    },
    {
      "cell_type": "markdown",
      "source": [
        "### When should you make the process of Reversing the Order of Elements after the 90° rotation\n",
        "\n",
        "The decision to reverse the order of elements in each row depends on the specific requirements or characteristics of your data and the computations or analyses you intend to perform. Here are some scenarios where you might want to consider reversing the order of elements in each row:\n",
        "\n",
        "#### <b>Symmetry Requirement:</b>\n",
        "If your original matrix represents a symmetric structure (e.g., a symmetric matrix), and you need to maintain symmetry in subsequent operations, you might want to reverse the order of elements in each row to preserve that symmetry.\n",
        "\n",
        "<b>Example:</b> Imagine you have a matrix representing distances between cities, and it's symmetric because the distance from city A to city B is the same as the distance from city B to city A. Reversing the order of elements in each row might be necessary to maintain this symmetry:\n",
        "\n",
        "Original Matrix:\n",
        "```\n",
        "[[0, 10, 20],\n",
        " [10, 0, 30],\n",
        " [20, 30, 0]]\n",
        "```\n",
        "\n",
        "Reversed Rows:\n",
        "```\n",
        "[[20, 10, 0],\n",
        " [30, 0, 10],\n",
        " [0, 30, 20]]\n",
        "```\n",
        "#### <b>Specific Data Structure or Convention:</b>\n",
        "In some applications, the order of elements within a row might have a specific meaning or convention. Reversing the order might align the data with that convention or make it more compatible with downstream processes.\n",
        "\n",
        "<b>Example:</b> Consider a matrix where each row represents a sequence of events in time. Reversing the order of elements in each row might align the data with a chronological convention, especially if the events are recorded in reverse order:\n",
        "\n",
        "Original Matrix:\n",
        "```\n",
        "[[event3, event2, event1],\n",
        " [event6, event5, event4]]\n",
        " ```\n",
        "\n",
        "Reversed Row:\n",
        "```\n",
        "[[event1, event2, event3],\n",
        " [event4, event5, event6]]\n",
        "```\n",
        "#### <b>Algorithmic Requirements:</b>\n",
        "Certain algorithms or computations may expect or work more efficiently with a specific order of elements. In such cases, reversing the order might be necessary to meet the requirements of the algorithm.\n",
        "\n",
        "<b>Example:</b> Suppose you are working with a machine learning algorithm that expects features to be in a specific order for optimal performance. Reversing the order might be necessary to align the data with the algorithm's requirements:\n",
        "\n",
        "Original Matrix:\n",
        "```\n",
        "[[1, 2, 3],\n",
        " [4, 5, 6]]\n",
        "```\n",
        "\n",
        "Reversed Rows:\n",
        "```\n",
        "[[3, 2, 1],\n",
        " [6, 5, 4]]\n",
        "```\n",
        "\n",
        "#### <b>Visualization:</b>\n",
        "When visualizing data, the order of elements in each row might affect the visual representation. Reversing the order could result in a more meaningful or interpretable visualization.\n",
        "\n",
        "<b>Example:</b> In a heat map visualization where rows represent different categories and columns represent time periods, reversing the order of elements in each row might result in a more visually meaningful representation:\n",
        "\n",
        "Original Matrix:\n",
        "```\n",
        "[[10, 20, 30],\n",
        " [5, 15, 25]]\n",
        "```\n",
        "\n",
        "Reversed Rows:\n",
        "```\n",
        "[[30, 20, 10],\n",
        " [25, 15, 5]]\n",
        "```\n",
        "\n",
        "#### <b>Data Transformation:</b>\n",
        "If you are preparing data for a particular model or analysis that assumes a certain order of features or variables, reversing the order might be necessary to align the data with the model's expectations.\n",
        "\n",
        "<b>Example:</b> Suppose you are preparing data for a recurrent neural network (RNN) where the order of elements within a sequence matters. Reversing the order might be necessary to align the data with the expected sequence:\n",
        "\n",
        "Original Matrix:\n",
        "```\n",
        "[[1, 2, 3],\n",
        " [4, 5, 6]]\n",
        "```\n",
        "\n",
        "Reversed Rows:\n",
        "```\n",
        "[[3, 2, 1],\n",
        " [6, 5, 4]]\n",
        "```\n",
        "<br/>\n",
        "<br/>\n",
        "<hr>\n",
        "<br/>\n",
        "It's important to note that these scenarios are context-specific, and not all applications or analyses require reversing the order of elements in each row after transposing a matrix. Always consider the specific needs of your task and how the order of elements might impact the correctness or efficiency of subsequent operations.\n",
        "<hr>"
      ],
      "metadata": {
        "id": "hftq5QR_RBBk"
      },
      "id": "hftq5QR_RBBk"
    },
    {
      "cell_type": "markdown",
      "id": "51b654e8",
      "metadata": {
        "id": "51b654e8"
      },
      "source": [
        "### Applications of linear algebra\n",
        "\n",
        "Linear algebra has a direct impact on all processes involving data processing:\n",
        "\n",
        "- The data in a dataset is vectorized. Rows are inserted into a model one at a time for easier and more authentic calculations.\n",
        "- All images have a tabular (matrix) structure. Image editing techniques, such as cropping and scaling, use algebraic operations.\n",
        "- Regularization is a method that minimizes the size of coefficients while inserting them into the data.\n",
        "- Deep learning works with vectors, matrices and even tensors, as it requires aggregated and multiplied linear data structures.\n",
        "- The 'One hot encoding' method encodes categories to facilitate algebra operations.\n",
        "- In linear regression, linear algebra is used to describe the relationship between variables.\n",
        "- When we find irrelevant data, we usually eliminate redundant columns, so PCA works with matrix factorization.\n",
        "- With the help of linear algebra, recommender systems can have more refined data."
      ]
    }
  ],
  "metadata": {
    "interpreter": {
      "hash": "9248718ffe6ce6938b217e69dbcc175ea21f4c6b28a317e96c05334edae734bb"
    },
    "kernelspec": {
      "display_name": "Python 3.9.12 ('ML-BOOTCAMP')",
      "language": "python",
      "name": "python3"
    },
    "language_info": {
      "codemirror_mode": {
        "name": "ipython",
        "version": 3
      },
      "file_extension": ".py",
      "mimetype": "text/x-python",
      "name": "python",
      "nbconvert_exporter": "python",
      "pygments_lexer": "ipython3",
      "version": "3.11.4"
    },
    "colab": {
      "provenance": []
    }
  },
  "nbformat": 4,
  "nbformat_minor": 5
}